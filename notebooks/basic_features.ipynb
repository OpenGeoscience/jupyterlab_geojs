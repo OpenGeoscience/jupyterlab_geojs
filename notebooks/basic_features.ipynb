{
 "cells": [
  {
   "cell_type": "code",
   "execution_count": 2,
   "metadata": {},
   "outputs": [],
   "source": [
    "from jupyterlab_geojs import Scene, LayerType, FeatureType\n",
    "scene = Scene()\n",
    "scene.center = {'x': -97.67, 'y': 31.80}\n",
    "scene.zoom = 4\n",
    "osm_layer = scene.create_layer(LayerType.OSM)\n",
    "feature_layer = scene.create_layer(LayerType.FEATURE)"
   ]
  },
  {
   "cell_type": "code",
   "execution_count": 3,
   "metadata": {},
   "outputs": [],
   "source": [
    "import math  # for point size logic\n",
    "\n",
    "# Point data\n",
    "# Copied from http://opengeoscience.github.io/geojs/tutorials/simple_point/\n",
    "cities = [\n",
    "    {'lon': -74.0059413, 'lat': 40.7127837, 'name': \"New York\", 'population': 8405837},\n",
    "    {'lon': -118.2436849, 'lat': 34.0522342, 'name': \"Los Angeles\", 'population': 3884307},\n",
    "    {'lon': -87.6297982, 'lat': 41.8781136, 'name': \"Chicago\", 'population': 2718782},\n",
    "    {'lon': -95.3698028, 'lat': 29.7604267, 'name': \"Houston\", 'population': 2195914},\n",
    "    {'lon': -75.1652215, 'lat': 39.9525839, 'name': \"Philadelphia\", 'population': 1553165},\n",
    "    {'lon': -112.0740373, 'lat': 33.4483771, 'name': \"Phoenix\", 'population': 1513367}\n",
    "]\n",
    "feature_layer.clear()\n",
    "points = feature_layer.create_feature(FeatureType.POINT, data=cities)\n",
    "\n",
    "#points.position = [{'x':city['lon'], 'y':city['lat']} for city in cities]\n",
    "points.position = lambda city: {'x':city['lon'], 'y':city['lat']}\n",
    "\n",
    "style = {'fillColor': 'gray', 'strokeColor': 'black', 'strokeWidth': 2}\n",
    "\n",
    "# Scale point size (area) proportional to population\n",
    "populations = [city['population'] for city in cities]\n",
    "pmin = min(populations)\n",
    "rmin = 8  # minimum radius\n",
    "style['radius'] = lambda city: int(math.sqrt(rmin*rmin*city['population']/pmin))\n",
    "points.style = style\n",
    "\n",
    "points.enableTooltip = True"
   ]
  },
  {
   "cell_type": "code",
   "execution_count": 5,
   "metadata": {},
   "outputs": [
    {
     "name": "stdout",
     "output_type": "stream",
     "text": [
      "matplotlib loaded\n"
     ]
    }
   ],
   "source": [
    "# Apply color map to longitude\n",
    "try:\n",
    "    # Use matplotlib colormap if available\n",
    "    import matplotlib as mpl\n",
    "    import matplotlib.cm\n",
    "    MPL_LOADED = True\n",
    "    print('matplotlib loaded')\n",
    "    \n",
    "    cmap = mpl.cm.get_cmap('Spectral')\n",
    "    lons = [city['lon'] for city in cities]\n",
    "    lon_norm = mpl.colors.Normalize(vmin=min(lons), vmax=max(lons))\n",
    "    style['fillColor'] = lambda city: cmap(lon_norm(city['lon']))\n",
    "#     style['fillColor'] = {'mplcolormap': 'Spectral', 'dataItem': 'lon'}\n",
    "#     style['fillColor'] = Scene.mpl_colormap('Spectral', 'lon')  # vrange=[min, max]\n",
    "except ImportError:\n",
    "    MPL_LOADED = False\n",
    "    print('matplotlib NOT loaded')\n",
    "    # Use backup coloring (deprecate?)\n",
    "    points.colormap = {\n",
    "        'colorseries': 'rainbow',\n",
    "        'field': 'lon',\n",
    "        'range': [-118, -74]\n",
    "    }\n"
   ]
  },
  {
   "cell_type": "code",
   "execution_count": 6,
   "metadata": {},
   "outputs": [],
   "source": [
    "# Quad data\n",
    "# Copied from http://opengeoscience.github.io/geojs/tutorials/video_on_map/\n",
    "data = [{\n",
    "    'ul': {'x': -129.0625, 'y': 42.13468456089552},\n",
    "    'lr': {'x': -100.9375, 'y': 29.348416310781797}\n",
    "}]\n",
    "quad = feature_layer.create_feature(FeatureType.QUAD, data)\n",
    "quad.style = {'color': 'magenta', 'opacity': 0.2}\n"
   ]
  },
  {
   "cell_type": "code",
   "execution_count": 7,
   "metadata": {},
   "outputs": [
    {
     "data": {
      "application/geojs+json": {
       "layers": [
        {
         "layerType": "osm",
         "options": {}
        },
        {
         "features": [
          {
           "featureType": "point",
           "options": {
            "data": [
             {
              "__i": 0,
              "lat": 40.7127837,
              "lon": -74.0059413,
              "name": "New York",
              "population": 8405837
             },
             {
              "__i": 1,
              "lat": 34.0522342,
              "lon": -118.2436849,
              "name": "Los Angeles",
              "population": 3884307
             },
             {
              "__i": 2,
              "lat": 41.8781136,
              "lon": -87.6297982,
              "name": "Chicago",
              "population": 2718782
             },
             {
              "__i": 3,
              "lat": 29.7604267,
              "lon": -95.3698028,
              "name": "Houston",
              "population": 2195914
             },
             {
              "__i": 4,
              "lat": 39.9525839,
              "lon": -75.1652215,
              "name": "Philadelphia",
              "population": 1553165
             },
             {
              "__i": 5,
              "lat": 33.4483771,
              "lon": -112.0740373,
              "name": "Phoenix",
              "population": 1513367
             }
            ],
            "enableTooltip": true,
            "position": [
             {
              "x": -74.0059413,
              "y": 40.7127837
             },
             {
              "x": -118.2436849,
              "y": 34.0522342
             },
             {
              "x": -87.6297982,
              "y": 41.8781136
             },
             {
              "x": -95.3698028,
              "y": 29.7604267
             },
             {
              "x": -75.1652215,
              "y": 39.9525839
             },
             {
              "x": -112.0740373,
              "y": 33.4483771
             }
            ],
            "style": {
             "fillColor": [
              "#5e4fa2",
              "#9e0142",
              "#aedea3",
              "#fafdb8",
              "#535ca8",
              "#e04f4a"
             ],
             "radius": [
              18,
              12,
              10,
              9,
              8,
              8
             ],
             "strokeColor": "black",
             "strokeWidget": 2
            }
           }
          },
          {
           "featureType": "quad",
           "options": {
            "data": [
             {
              "lr": {
               "x": -100.9375,
               "y": 29.348416310781797
              },
              "ul": {
               "x": -129.0625,
               "y": 42.13468456089552
              }
             }
            ],
            "style": {
             "color": "magenta",
             "opacity": 0.2
            }
           }
          }
         ],
         "layerType": "feature",
         "options": {}
        }
       ],
       "options": {
        "center": {
         "x": -97.67,
         "y": 31.8,
         "z": 0
        },
        "node": {
         "jQuery331085922562241861661": {
          "events": {
           "contextmenu": [
            {
             "guid": 73,
             "namespace": "geojs",
             "origType": "contextmenu",
             "type": "contextmenu"
            }
           ],
           "dragover": [
            {
             "guid": 66,
             "namespace": "geo",
             "origType": "dragover",
             "type": "dragover"
            }
           ],
           "dragstart": [
            {
             "guid": 72,
             "namespace": "",
             "origType": "dragstart",
             "type": "dragstart"
            }
           ],
           "drop": [
            {
             "guid": 67,
             "namespace": "geo",
             "origType": "drop",
             "type": "drop"
            }
           ],
           "mousedown": [
            {
             "guid": 70,
             "namespace": "geojs",
             "origType": "mousedown",
             "type": "mousedown"
            }
           ],
           "mousemove": [
            {
             "guid": 69,
             "namespace": "geojs",
             "origType": "mousemove",
             "type": "mousemove"
            }
           ],
           "mouseup": [
            {
             "guid": 71,
             "namespace": "geojs",
             "origType": "mouseup",
             "type": "mouseup"
            }
           ],
           "wheel": [
            {
             "guid": 68,
             "namespace": "geojs",
             "origType": "wheel",
             "type": "wheel"
            }
           ]
          }
         },
         "jQuery331085922562241861662": {
          "dataGeojsMap": {}
         }
        },
        "zoom": 4
       },
       "viewpoint": null
      },
      "text/plain": [
       "<jupyterlab_geojs.Scene object>"
      ]
     },
     "metadata": {
      "application/geojs+json": {
       "expanded": false
      }
     },
     "output_type": "display_data"
    }
   ],
   "source": [
    "scene"
   ]
  },
  {
   "cell_type": "code",
   "execution_count": null,
   "metadata": {},
   "outputs": [],
   "source": []
  }
 ],
 "metadata": {
  "kernelspec": {
   "display_name": "Python 3",
   "language": "python",
   "name": "python3"
  },
  "language_info": {
   "codemirror_mode": {
    "name": "ipython",
    "version": 3
   },
   "file_extension": ".py",
   "mimetype": "text/x-python",
   "name": "python",
   "nbconvert_exporter": "python",
   "pygments_lexer": "ipython3",
   "version": "3.5.2"
  }
 },
 "nbformat": 4,
 "nbformat_minor": 2
}
