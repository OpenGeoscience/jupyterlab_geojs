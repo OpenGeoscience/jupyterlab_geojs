{
 "cells": [
  {
   "cell_type": "code",
   "execution_count": 1,
   "metadata": {},
   "outputs": [
    {
     "data": {
      "application/geojs+json": {
       "layers": [
        {
         "layerType": "osm",
         "options": {}
        },
        {
         "features": [
          {
           "featureType": "quad",
           "options": {
            "data": [
             {
              "image": "data:image/png;base64,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",
              "ll": {
               "x": -74.70879542101335,
               "y": 5.856319261758699
              },
              "lr": {
               "x": -74.43628239946631,
               "y": 5.850183858730944
              },
              "ul": {
               "x": -74.70258821379198,
               "y": 6.129378703986855
              },
              "ur": {
               "x": -74.42994640953088,
               "y": 6.122955172929114
              }
             }
            ],
            "style": {
             "opacity": 0.8
            }
           }
          }
         ],
         "layerType": "feature",
         "options": {}
        }
       ],
       "options": {
        "center": {
         "x": 0,
         "y": 0,
         "z": 0
        },
        "node": {
         "jQuery3310381867443320983551": {
          "events": {
           "contextmenu": [
            {
             "guid": 284,
             "namespace": "geojs",
             "origType": "contextmenu",
             "type": "contextmenu"
            }
           ],
           "dragover": [
            {
             "guid": 277,
             "namespace": "geo",
             "origType": "dragover",
             "type": "dragover"
            }
           ],
           "dragstart": [
            {
             "guid": 283,
             "namespace": "",
             "origType": "dragstart",
             "type": "dragstart"
            }
           ],
           "drop": [
            {
             "guid": 278,
             "namespace": "geo",
             "origType": "drop",
             "type": "drop"
            }
           ],
           "mousedown": [
            {
             "guid": 281,
             "namespace": "geojs",
             "origType": "mousedown",
             "type": "mousedown"
            }
           ],
           "mousemove": [
            {
             "guid": 280,
             "namespace": "geojs",
             "origType": "mousemove",
             "type": "mousemove"
            }
           ],
           "mouseup": [
            {
             "guid": 282,
             "namespace": "geojs",
             "origType": "mouseup",
             "type": "mouseup"
            }
           ],
           "wheel": [
            {
             "guid": 279,
             "namespace": "geojs",
             "origType": "wheel",
             "type": "wheel"
            }
           ]
          }
         },
         "jQuery3310381867443320983552": {
          "dataGeojsMap": {}
         }
        }
       },
       "viewpoint": {
        "bounds": {
         "bottom": 5.850183858730944,
         "left": -74.70879542101335,
         "right": -74.42994640953088,
         "top": 6.129378703986855
        },
        "mode": "bounds"
       }
      },
      "text/plain": [
       "<jupyterlab_geojs.GeoJSMap object>"
      ]
     },
     "metadata": {
      "application/geojs+json": {
       "expanded": false
      }
     },
     "output_type": "display_data"
    }
   ],
   "source": [
    "# 1. Initialize the map and add OSM and feature layers.\n",
    "from jupyterlab_geojs import Scene\n",
    "scene = Scene()\n",
    "osm_layer = scene.createLayer('osm')\n",
    "\n",
    "# 2. Add raster feature (GeoTiff image)\n",
    "#    Note that you must have GDAL installed in your python environment\n",
    "feature_layer = scene.createLayer('feature')\n",
    "raster_feature = feature_layer.createFeature('raster', filename=\"../test/data/utm.tif\")\n",
    "raster_feature.style = {'opacity': 0.8}\n",
    "\n",
    "# 3. Display the results\n",
    "# Use map corners to set the viewpoint (map's zoom and center)\n",
    "corners = raster_feature.get_corner_points(as_lonlat=True)\n",
    "scene.set_zoom_and_center(corners=corners)\n",
    "scene\n"
   ]
  },
  {
   "cell_type": "code",
   "execution_count": null,
   "metadata": {},
   "outputs": [],
   "source": []
  }
 ],
 "metadata": {
  "kernelspec": {
   "display_name": "Python 3",
   "language": "python",
   "name": "python3"
  },
  "language_info": {
   "codemirror_mode": {
    "name": "ipython",
    "version": 3
   },
   "file_extension": ".py",
   "mimetype": "text/x-python",
   "name": "python",
   "nbconvert_exporter": "python",
   "pygments_lexer": "ipython3",
   "version": "3.5.2"
  }
 },
 "nbformat": 4,
 "nbformat_minor": 2
}
