{
 "cells": [
  {
   "cell_type": "code",
   "execution_count": 2,
   "metadata": {},
   "outputs": [],
   "source": [
    "# Initialize the map and add OSM and feature layers.\n",
    "# In general, notebooks should not display the map in each cell,\n",
    "# because that will use up all available gl contexts quickly.\n",
    "# Best practice is to comment out the geomap for cells that\n",
    "# are known to be working.\n",
    "\n",
    "from jupyterlab_geojs import Scene\n",
    "kwcoords = {'y': 43.0, 'x': -76.5}\n",
    "scene = Scene(center=kwcoords, zoom=7)\n",
    "\n",
    "osm_layer = scene.create_layer('osm')\n",
    "feature_layer = scene.create_layer('feature')\n",
    "\n",
    "scene;"
   ]
  },
  {
   "cell_type": "code",
   "execution_count": 4,
   "metadata": {},
   "outputs": [],
   "source": [
    "# Add GeoJSON features by creating json object\n",
    "ny_poly = { \"type\": \"Feature\",\n",
    "  \"geometry\": {\n",
    "    \"type\": \"Polygon\",\n",
    "    \"coordinates\": [[\n",
    "      [-78.878369, 42.886447],\n",
    "      [-76.147424, 43.048122],\n",
    "      [-75.910756, 43.974784],\n",
    "      [-73.756232, 42.652579],\n",
    "      [-75.917974, 42.098687],\n",
    "      [-78.429927, 42.083639],\n",
    "      [-78.878369, 42.886447]\n",
    "    ]]\n",
    "  },\n",
    "  \"properties\": {\n",
    "    \"author\": \"Kitware\",\n",
    "    \"cities\": [\"Buffalo\", \"Syracuse\", \"Watertown\", \"Albany\", \"Binghamton\", \"Olean\"]\n",
    "  }\n",
    "}\n",
    "feature_layer.create_feature('geojson', data=ny_poly)\n",
    "scene;"
   ]
  },
  {
   "cell_type": "code",
   "execution_count": 6,
   "metadata": {},
   "outputs": [],
   "source": [
    "# 2. Add GeoJSON features by specifying local file\n",
    "feature_layer.create_feature('geojson', filename=\"./ny-points.geojson\")\n",
    "scene;"
   ]
  },
  {
   "cell_type": "code",
   "execution_count": 7,
   "metadata": {},
   "outputs": [
    {
     "data": {
      "application/geojs+json": {
       "layers": [
        {
         "layerType": "osm",
         "options": {}
        },
        {
         "features": [
          {
           "data": {
            "geometry": {
             "coordinates": [
              [
               [
                -78.878369,
                42.886447
               ],
               [
                -76.147424,
                43.048122
               ],
               [
                -75.910756,
                43.974784
               ],
               [
                -73.756232,
                42.652579
               ],
               [
                -75.917974,
                42.098687
               ],
               [
                -78.429927,
                42.083639
               ],
               [
                -78.878369,
                42.886447
               ]
              ]
             ],
             "type": "Polygon"
            },
            "properties": {
             "author": "Kitware",
             "cities": [
              "Buffalo",
              "Syracuse",
              "Watertown",
              "Albany",
              "Binghamton",
              "Olean"
             ]
            },
            "type": "Feature"
           },
           "featureType": "geojson",
           "options": {}
          },
          {
           "data": {
            "geometry": {
             "coordinates": [
              [
               [
                -78.878369,
                42.886447
               ],
               [
                -76.147424,
                43.048122
               ],
               [
                -75.910756,
                43.974784
               ],
               [
                -73.756232,
                42.652579
               ],
               [
                -75.917974,
                42.098687
               ],
               [
                -78.429927,
                42.083639
               ],
               [
                -78.878369,
                42.886447
               ]
              ]
             ],
             "type": "Polygon"
            },
            "properties": {
             "author": "Kitware",
             "cities": [
              "Buffalo",
              "Syracuse",
              "Watertown",
              "Albany",
              "Binghamton",
              "Olean"
             ]
            },
            "type": "Feature"
           },
           "featureType": "geojson",
           "options": {}
          },
          {
           "data": {
            "features": [
             {
              "geometry": {
               "coordinates": [
                -73.756232,
                42.652579
               ],
               "type": "Point"
              },
              "id": null,
              "properties": {
               "name": "Albany",
               "zipcode": 12201
              },
              "type": "Feature"
             },
             {
              "geometry": {
               "coordinates": [
                -75.917974,
                42.098687
               ],
               "type": "Point"
              },
              "id": null,
              "properties": {
               "name": "Binghamton",
               "zipcode": 13901
              },
              "type": "Feature"
             },
             {
              "geometry": {
               "coordinates": [
                -78.878369,
                42.886447
               ],
               "type": "Point"
              },
              "id": null,
              "properties": {
               "name": "Buffalo",
               "zipcode": 14201
              },
              "type": "Feature"
             },
             {
              "geometry": {
               "coordinates": [
                -74.005941,
                40.712784
               ],
               "type": "Point"
              },
              "id": null,
              "properties": {
               "name": "New York City",
               "zipcode": 10001
              },
              "type": "Feature"
             },
             {
              "geometry": {
               "coordinates": [
                -78.429927,
                42.083639
               ],
               "type": "Point"
              },
              "id": null,
              "properties": {
               "name": "Olean",
               "zipcode": 14760
              },
              "type": "Feature"
             },
             {
              "geometry": {
               "coordinates": [
                -75.063775,
                42.452857
               ],
               "type": "Point"
              },
              "id": null,
              "properties": {
               "name": "Oneonto",
               "zipcode": 13820
              },
              "type": "Feature"
             },
             {
              "geometry": {
               "coordinates": [
                -76.147424,
                43.048122
               ],
               "type": "Point"
              },
              "id": null,
              "properties": {
               "name": "Syracuse",
               "zipcode": 13201
              },
              "type": "Feature"
             }
            ],
            "type": "FeatureCollection"
           },
           "featureType": "geojson",
           "options": {}
          },
          {
           "data": {
            "features": [
             {
              "geometry": {
               "coordinates": [
                -73.756232,
                42.652579
               ],
               "type": "Point"
              },
              "id": null,
              "properties": {
               "name": "Albany",
               "zipcode": 12201
              },
              "type": "Feature"
             },
             {
              "geometry": {
               "coordinates": [
                -75.917974,
                42.098687
               ],
               "type": "Point"
              },
              "id": null,
              "properties": {
               "name": "Binghamton",
               "zipcode": 13901
              },
              "type": "Feature"
             },
             {
              "geometry": {
               "coordinates": [
                -78.878369,
                42.886447
               ],
               "type": "Point"
              },
              "id": null,
              "properties": {
               "name": "Buffalo",
               "zipcode": 14201
              },
              "type": "Feature"
             },
             {
              "geometry": {
               "coordinates": [
                -74.005941,
                40.712784
               ],
               "type": "Point"
              },
              "id": null,
              "properties": {
               "name": "New York City",
               "zipcode": 10001
              },
              "type": "Feature"
             },
             {
              "geometry": {
               "coordinates": [
                -78.429927,
                42.083639
               ],
               "type": "Point"
              },
              "id": null,
              "properties": {
               "name": "Olean",
               "zipcode": 14760
              },
              "type": "Feature"
             },
             {
              "geometry": {
               "coordinates": [
                -75.063775,
                42.452857
               ],
               "type": "Point"
              },
              "id": null,
              "properties": {
               "name": "Oneonto",
               "zipcode": 13820
              },
              "type": "Feature"
             },
             {
              "geometry": {
               "coordinates": [
                -76.147424,
                43.048122
               ],
               "type": "Point"
              },
              "id": null,
              "properties": {
               "name": "Syracuse",
               "zipcode": 13201
              },
              "type": "Feature"
             }
            ],
            "type": "FeatureCollection"
           },
           "featureType": "geojson",
           "options": {}
          },
          {
           "featureType": "geojson",
           "options": {},
           "url": "https://data.kitware.com/api/v1/file/5ad8e9678d777f0685794ac6/download/ny-multilinestring.geojson"
          }
         ],
         "layerType": "feature",
         "options": {}
        }
       ],
       "options": {
        "center": {
         "x": -76.5,
         "y": 43,
         "z": 0
        },
        "node": {
         "jQuery3310381867443320983551": {
          "events": {
           "contextmenu": [
            {
             "guid": 240,
             "namespace": "geojs",
             "origType": "contextmenu",
             "type": "contextmenu"
            }
           ],
           "dragover": [
            {
             "guid": 233,
             "namespace": "geo",
             "origType": "dragover",
             "type": "dragover"
            }
           ],
           "dragstart": [
            {
             "guid": 239,
             "namespace": "",
             "origType": "dragstart",
             "type": "dragstart"
            }
           ],
           "drop": [
            {
             "guid": 234,
             "namespace": "geo",
             "origType": "drop",
             "type": "drop"
            }
           ],
           "mousedown": [
            {
             "guid": 237,
             "namespace": "geojs",
             "origType": "mousedown",
             "type": "mousedown"
            }
           ],
           "mousemove": [
            {
             "guid": 236,
             "namespace": "geojs",
             "origType": "mousemove",
             "type": "mousemove"
            }
           ],
           "mouseup": [
            {
             "guid": 238,
             "namespace": "geojs",
             "origType": "mouseup",
             "type": "mouseup"
            }
           ],
           "wheel": [
            {
             "guid": 235,
             "namespace": "geojs",
             "origType": "wheel",
             "type": "wheel"
            }
           ]
          }
         },
         "jQuery3310381867443320983552": {
          "dataGeojsMap": {}
         }
        },
        "zoom": 7
       },
       "viewpoint": null
      },
      "text/plain": [
       "<jupyterlab_geojs.Scene object>"
      ]
     },
     "metadata": {
      "application/geojs+json": {
       "expanded": false
      }
     },
     "output_type": "display_data"
    }
   ],
   "source": [
    "# 3. Add GeoJSON features by downloading from a remote server\n",
    "url = 'https://data.kitware.com/api/v1/file/5ad8e9678d777f0685794ac6/download/ny-multilinestring.geojson'\n",
    "feature_layer.create_feature('geojson', url=url)\n",
    "scene"
   ]
  },
  {
   "cell_type": "code",
   "execution_count": null,
   "metadata": {},
   "outputs": [],
   "source": []
  }
 ],
 "metadata": {
  "kernelspec": {
   "display_name": "Python 3",
   "language": "python",
   "name": "python3"
  },
  "language_info": {
   "codemirror_mode": {
    "name": "ipython",
    "version": 3
   },
   "file_extension": ".py",
   "mimetype": "text/x-python",
   "name": "python",
   "nbconvert_exporter": "python",
   "pygments_lexer": "ipython3",
   "version": "3.5.2"
  }
 },
 "nbformat": 4,
 "nbformat_minor": 2
}
